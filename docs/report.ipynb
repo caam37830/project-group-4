{
 "cells": [
  {
   "cell_type": "markdown",
   "metadata": {
    "toc": true
   },
   "source": [
    "<h1>Table of Contents<span class=\"tocSkip\"></span></h1>\n",
    "<div class=\"toc\"><ul class=\"toc-item\"><li><span><a href=\"#Introduction\" data-toc-modified-id=\"Introduction-1\"><span class=\"toc-item-num\">1&nbsp;&nbsp;</span>Introduction</a></span></li><li><span><a href=\"#Models-and-Results\" data-toc-modified-id=\"Models-and-Results-2\"><span class=\"toc-item-num\">2&nbsp;&nbsp;</span>Models and Results</a></span><ul class=\"toc-item\"><li><span><a href=\"#Basic-SIR\" data-toc-modified-id=\"Basic-SIR-2.1\"><span class=\"toc-item-num\">2.1&nbsp;&nbsp;</span>Basic SIR</a></span></li><li><span><a href=\"#Spatial-SIR\" data-toc-modified-id=\"Spatial-SIR-2.2\"><span class=\"toc-item-num\">2.2&nbsp;&nbsp;</span>Spatial SIR</a></span><ul class=\"toc-item\"><li><span><a href=\"#Agent-based-Model\" data-toc-modified-id=\"Agent-based-Model-2.2.1\"><span class=\"toc-item-num\">2.2.1&nbsp;&nbsp;</span>Agent-based Model</a></span></li><li><span><a href=\"#PDE\" data-toc-modified-id=\"PDE-2.2.2\"><span class=\"toc-item-num\">2.2.2&nbsp;&nbsp;</span>PDE</a></span></li></ul></li><li><span><a href=\"#SIR-with-varition-on-Parameters\" data-toc-modified-id=\"SIR-with-varition-on-Parameters-2.3\"><span class=\"toc-item-num\">2.3&nbsp;&nbsp;</span>SIR with varition on Parameters</a></span><ul class=\"toc-item\"><li><span><a href=\"#Agent-based-Model\" data-toc-modified-id=\"Agent-based-Model-2.3.1\"><span class=\"toc-item-num\">2.3.1&nbsp;&nbsp;</span>Agent-based Model</a></span></li><li><span><a href=\"#ODE-Model\" data-toc-modified-id=\"ODE-Model-2.3.2\"><span class=\"toc-item-num\">2.3.2&nbsp;&nbsp;</span>ODE Model</a></span></li></ul></li><li><span><a href=\"#SEIR\" data-toc-modified-id=\"SEIR-2.4\"><span class=\"toc-item-num\">2.4&nbsp;&nbsp;</span>SEIR</a></span><ul class=\"toc-item\"><li><span><a href=\"#Agent-based-Model\" data-toc-modified-id=\"Agent-based-Model-2.4.1\"><span class=\"toc-item-num\">2.4.1&nbsp;&nbsp;</span>Agent-based Model</a></span></li><li><span><a href=\"#ODE-Model\" data-toc-modified-id=\"ODE-Model-2.4.2\"><span class=\"toc-item-num\">2.4.2&nbsp;&nbsp;</span>ODE Model</a></span></li></ul></li><li><span><a href=\"#Fit-to-Data\" data-toc-modified-id=\"Fit-to-Data-2.5\"><span class=\"toc-item-num\">2.5&nbsp;&nbsp;</span>Fit to Data</a></span></li></ul></li><li><span><a href=\"#Discussion\" data-toc-modified-id=\"Discussion-3\"><span class=\"toc-item-num\">3&nbsp;&nbsp;</span>Discussion</a></span><ul class=\"toc-item\"><li><span><a href=\"#Conclusion\" data-toc-modified-id=\"Conclusion-3.1\"><span class=\"toc-item-num\">3.1&nbsp;&nbsp;</span>Conclusion</a></span></li><li><span><a href=\"#Computational-Performance\" data-toc-modified-id=\"Computational-Performance-3.2\"><span class=\"toc-item-num\">3.2&nbsp;&nbsp;</span>Computational Performance</a></span></li><li><span><a href=\"#Limitation\" data-toc-modified-id=\"Limitation-3.3\"><span class=\"toc-item-num\">3.3&nbsp;&nbsp;</span>Limitation</a></span></li><li><span><a href=\"#Further-Investigation\" data-toc-modified-id=\"Further-Investigation-3.4\"><span class=\"toc-item-num\">3.4&nbsp;&nbsp;</span>Further Investigation</a></span></li></ul></li><li><span><a href=\"#Bibliography\" data-toc-modified-id=\"Bibliography-4\"><span class=\"toc-item-num\">4&nbsp;&nbsp;</span>Bibliography</a></span></li></ul></div>"
   ]
  },
  {
   "cell_type": "markdown",
   "metadata": {},
   "source": [
    "\n",
    "In addition to the code you will write and simulations you will run, you should prepare a final report, which should be similar in length/format to a conference paper or short journal article. The purpose of the report is to explain what you investigated, how you investigated your topics (e.g. model/implementation), and why your investigation was interesting (what should a reader take away from your work).\n",
    "\n",
    "This can either be a PDF or a file which can be viewed in a web browser (please don't just use GitHub to host a notebook or markdown file - generate a static html web page). Put your report in the doc/final folder in the repository, which should contain any files and figures, as well as instructions to generate the PDF or html files (if they are generated from LaTeX, Markdown, etc.) If your extensions include an interactive visualization, find a good way to display this online. The purpose of the report is to explain what you investigated, how you investigated your topics, and why your investigation was interesting.\n",
    "\n",
    "Your report should the following sections. 0. Abstract (1 paragraph summary)\n",
    "\n",
    "A brief introduction to the SIR model, the notation you will use, and the different variations you investigate.\n",
    "Sections for the basic SIR model (also in midterm checkpoint), the spatial SIR model, and your variations. Include any relevant implementation details as well as your results and discussion.\n",
    "A conclusion summarizing your results, discussing limitations of your models, and pointing out interesting directions for further investigation\n",
    "A bibliography\n",
    "Please limit your report to 10 pages (excluding bibliography) with 1-inch margins (these margins allow for a lot of content per page). You can put additional figures/results in appendices (not counting to 10 page limit) if you would like, but it is perfectly fine to choose one or two figures per experiment that best illustrate your point in the main text."
   ]
  },
  {
   "cell_type": "markdown",
   "metadata": {},
   "source": [
    "# Introduction"
   ]
  },
  {
   "cell_type": "markdown",
   "metadata": {},
   "source": [
    "To model the spread of a new disease, we classify individuals into three categories according to the SIR model:\n",
    "1. Susceptible - individuals who have not yet caught the disease.\n",
    "2. Infectious - individuals who are sick and may spread the disease to susceptible individuals.\n",
    "3. Recovered - individuals who were previously infectious, and either have recovered and are now immune, or have died. Either way they can not get the disease again or infect susceptible individuals.\n",
    "\n",
    "We use $S(t)$, $I(t)$ and $R(t)$ to denote the number of individuals in each category above at time $t$, and $N$ to denote the total number of individuals, so $S(t) + I(t) + R(t) = N$ at all times. We define the corresponding fractions for each group by $s(t) = S(t) / N$, $i(t) = I(t) / N$, and $r(t) = R(t) / N$, so $s(t) + i(t) + r(t) = 1$ at all times. "
   ]
  },
  {
   "cell_type": "markdown",
   "metadata": {},
   "source": [
    "# Models and Results"
   ]
  },
  {
   "cell_type": "markdown",
   "metadata": {},
   "source": [
    "## Basic SIR"
   ]
  },
  {
   "cell_type": "markdown",
   "metadata": {},
   "source": [
    "We use the Kermack-McKendrick Model which has two parameters to model the change in $S(t)$, $I(t)$ and $R(t)$:\n",
    "* $b$: the number of contacts that an infectious individual has each day \n",
    "* $k$: the fraction of the infectious population which recovers each day\n",
    "\n",
    "At time $t=0$, there is a small fraction of infectious population $i_0$. Each day an infectious individual contacts $b$ other individuals, who can be from one of the three categories but only susceptible individuals get infected. Meanwhile, $k$ fraction of the infectious population recovers.\n",
    "\n",
    "We use two methods to find how $s(t)$, $i(t)$ and $r(t)$ change across time with different values of $b$ and $k$:\n",
    "1. agent-based model, where we represent a person using a class with an internal state which is one of $S$, $I$, or $R$.\n",
    "2. ODE model, where we model the fraction of each population through the following system of differential equations:\n",
    "\\begin{aligned}\n",
    "\\frac{d s}{d t} &= -b\\cdot s(t)\\cdot i(t) \\\\\n",
    "\\frac{d i}{d t} &= b\\cdot s(t)\\cdot i(t) - k\\cdot i(t) \\\\\n",
    "\\frac{d r}{d t} &= k\\cdot i(t) \n",
    "\\end{aligned}"
   ]
  },
  {
   "cell_type": "markdown",
   "metadata": {},
   "source": [
    "## Spatial SIR"
   ]
  },
  {
   "cell_type": "markdown",
   "metadata": {},
   "source": [
    "### Agent-based Model"
   ]
  },
  {
   "cell_type": "markdown",
   "metadata": {},
   "source": [
    "### PDE"
   ]
  },
  {
   "cell_type": "markdown",
   "metadata": {},
   "source": [
    "The PDEs we want to solve are:\n",
    "\\begin{align}\n",
    "  \\frac{\\partial s(\\mathbf{x},t)}{\\partial t} &= -b\\cdot s(\\mathbf{x},t) \\cdot i(\\mathbf{x},t) + p\\cdot \\Delta s(\\mathbf{x},t) \\\\\n",
    "  \\frac{\\partial r(\\mathbf{x},t)}{\\partial t} &= k\\cdot i(\\mathbf{x},t) + p\\cdot \\Delta r(\\mathbf{x},t) \\\\\n",
    "  \\frac{\\partial i(\\mathbf{x},t)}{\\partial t} &= b\\cdot s(\\mathbf{x},t)\\cdot i(\\mathbf{x},t) - k\\cdot i(\\mathbf{x},t) + p\\cdot \\Delta i(\\mathbf{x},t)\n",
    "\\end{align}\n",
    "\n",
    "We want to use finite differencing to transform these PDEs into systems of ODEs and then use `solve_ivp` to get the solutions. We first discretize $[0,1]$ on the $x$-axis to $0 = x_0 < x_1 < \\cdots < x_M = 1$ where $x_i - x_{i-1} = \\frac{1}{M} := h$ for all $i$ and similarly for $y_0,\\ldots,y_M$.\n",
    "\n",
    "Consider the first PDE on $s(\\mathbf{x},t)$. The Laplacian at $(x_j,y_k)$ becomes\n",
    "\\begin{align*}\n",
    "  \\Delta s(x_j,y_k,t) &= \\frac{\\partial^2 s(x_j,y_k,t)}{\\partial x^2} + \\frac{\\partial^2 s(x_j,y_k,t)}{\\partial y^2} \\\\\n",
    "  &= \\frac{s(x_{j+1},y_k,t) - 2s(x_j,y_k,t) + s(x_{j-1},y_k,t)}{h^2} + \\frac{s(x_j,y_{k+1},t) - 2s(x_j,y_k,t) + s(x_j,y_{k-1},t)}{h^2}\n",
    "\\end{align*}\n",
    "\n",
    "Define $s_{j,k}(t) = s(x_j,y_k,t)$. Then the PDE becomes a system of ODEs:\n",
    "\\begin{align}\n",
    "  \\frac{ds_{j,k}(t)}{dt} = -b\\cdot s_{j,k}(t)\\cdot i_{j,k}(t) + \\frac{p}{h^2} [s_{j+1,k}(t) + s_{j-1,k}(t) + s_{j,k+1}(t) + s_{j,k-1}(t) - 4s_{j,k}(t)], \\quad \\forall j,k = 1,\\ldots,M\n",
    "\\end{align}\n",
    "\n",
    "Similarly, we define $i_{j,k}(t)$ and $r_{j,k}(t)$ and the other two PDEs become\n",
    "\\begin{align}\n",
    "  \\frac{dr_{j,k}(t)}{dt} &= k\\cdot i_{j,k}(t) + \\frac{p}{h^2} [r_{j+1,k}(t) + r_{j-1,k}(t) + r_{j,k+1}(t) + r_{j,k-1}(t) - 4r_{j,k}(t)], \\quad \\forall j,k = 1,\\ldots,M \\\\\n",
    "  \\frac{di_{j,k}(t)}{dt} &= b\\cdot s_{j,k}(t)\\cdot i_{j,k}(t) - k\\cdot i_{j,k}(t) + \\frac{p}{h^2} [i_{j+1,k}(t) + i_{j-1,k}(t) + i_{j,k+1}(t) + i_{j,k-1}(t) - 4i_{j,k}(t)], \\quad \\forall j,k = 1,\\ldots,M\n",
    "\\end{align}\n",
    "\n",
    "To write these in matrix form, we need to define the second-order finite differencing matrix\n",
    "\\begin{align*}\n",
    "  D = \\begin{bmatrix}\n",
    "    -2 & 2 & 0 \\\\\n",
    "    1 & -2 & 1 & 0\\\\\n",
    "    0 & 1 & -2 & 1 & 0 \\\\\n",
    "    & & \\ddots & \\ddots & \\ddots \\\\\n",
    "    & & & 0 & 1 & -2 & 1 \\\\\n",
    "    & & & & 0 & 2 & -2\n",
    "  \\end{bmatrix}\n",
    "\\end{align*}\n",
    "where the empty entries are all 0. Then we can write the three system of ODEs as\n",
    "\\begin{align*}\n",
    "  \\frac{ds(t)}{dt} &= -b\\cdot s(t)\\times i(t) + \\frac{p}{h^2}(D\\cdot s(t) + s(t)\\cdot D^\\top) \\\\\n",
    "  \\frac{di(t)}{dt} &= k\\cdot i(t) + \\frac{p}{h^2}(D\\cdot i(t) + i(t)\\cdot D^\\top) \\\\\n",
    "  \\frac{dr(t)}{dt} &= b\\cdot s(t)\\times i(t) - k\\cdot i(t) + \\frac{p}{h^2}(D\\cdot r(t) + r(t)\\cdot D^\\top)\n",
    "\\end{align*}\n",
    "where $s(t),i(t),r(t)$ are the $M\\times M$ matrix-valued functions and $s(t)\\times i(t)$ denotes the entry-wise multiplication and $D\\cdot s(t)$, etc., denote the matrix multiplication."
   ]
  },
  {
   "cell_type": "markdown",
   "metadata": {},
   "source": [
    "## SIR with varition on Parameters"
   ]
  },
  {
   "cell_type": "markdown",
   "metadata": {},
   "source": [
    "The basic SIR model has some unrealistic settings.\n",
    "\n",
    "\n",
    "\n",
    "* The interaction rate $b$ can also change over time. For example, $b$ decreases with the enforcement of social distancing and quanrantine and increases (mostly locally) with mass gatherings. The accumulated effect of different actions can be hard to measure. Therefore, we can model $b$ using a piece-wise constant function such as\n",
    "\\begin{align*}\n",
    "  b(t) = \\begin{cases} b_1, & t < t_0 \\\\ b_2, & t_0 \\le t \\le t_1 \\\\ b_3, & t \\ge t_1 \\end{cases}\n",
    "\\end{align*}\n",
    "where $t_0$ represents the time that hospital treatments of the disease become mature, and $t_1$ represents the time that the vaccine is invented, and $b_1<b_2<b_3$.\n",
    "\n",
    "\n",
    "* Similarly, the recover fraction $k$ may depend on time. As recovery methods, such as vaccine and hospitalization, are put into practice, the rate of recovery is likely to increase. so we can again use a piece-wise constant function to model $k$.\n",
    "\n",
    "\n",
    "* In addition, we assumed that an infectious individual will spread the disease to all the susceptible people they meets, but generally that's not the case, since the infection can depend on how long they stay together, whether they wear masks, the air ventilation around them, etc. Therefore, we can add an additional parameter $p$ to model the probability that an infectious individual actually spreads the disease when he has contact with an susceptible individual.\n",
    "\n",
    "\n"
   ]
  },
  {
   "cell_type": "markdown",
   "metadata": {},
   "source": [
    "\n",
    "We will investigate how $s(t)$, $i(t)$ and $r(t)$ change with these time-dependent parameters, using an agent-based model and an ODE model. In particular, we consider the following three effects:\n",
    "\n",
    "\n",
    "* **Social Distancing**\n",
    "\n",
    "    Social distancing can affect $b$, the number of interactions made by an infecious individual per day. Since social distancing rules take time to be implemented, we use \n",
    "\n",
    "\\begin{align*}\n",
    "  b(t) = \\begin{cases} 10, & t \\le 5 \\\\ 3, & 5 < t \\le 30 \\\\ 1, & 30 \\le t \\le 100 \\end{cases}\n",
    "\\end{align*}\n",
    "\n",
    "\n",
    "* **Drug Development and Distribution**\n",
    "\n",
    "    This will affect the removed fraction per day $k$. We use $k=0.01$ when there is no drug, and $k=0.1$ for the early distribution period of the drug, and $k=0.8$ for the distributed period.\n",
    "\n",
    "\\begin{align*}\n",
    "  k(t) = \\begin{cases} 0.01, & t \\le 15 \\\\ 0.1, & 15 < t \\le 70 \\\\ 0.8, & 70 \\le t \\le 100 \\end{cases}\n",
    "\\end{align*}\n",
    "\n",
    "* **Virus Mutation**\n",
    "\n",
    "    If mutation happens, the virus becomes more infectious. This can be measured by the transmition probability $p$. Holding other constant, if two individuals has an interaction, then we expected $p$ to be higher if the virus becomes more infectious. In the experiments below we use $p=0.1$ for the normal virus first 20 days and $p=0.8$ for the mutated virus in the last 80 days.\n",
    "\n",
    "\n",
    "\\begin{align*}\n",
    "  p(t) = \\begin{cases} 0.1, & t \\le 20 \\\\ 0.8, & 20 \\le t \\le 100 \\end{cases}\n",
    "\\end{align*}"
   ]
  },
  {
   "cell_type": "markdown",
   "metadata": {},
   "source": [
    "### Agent-based Model"
   ]
  },
  {
   "cell_type": "markdown",
   "metadata": {},
   "source": [
    "We first make a plot as a base case to be compared to, where $b=10, k=0.01, p=0.1$ We see from the plot below that $i(t)$ reaches its maximum at around 80% on day 30. "
   ]
  },
  {
   "cell_type": "markdown",
   "metadata": {},
   "source": [
    "<img style=\"float: center;\" src=\"figs/agent_varparm_base_case.png\" width=\"40%\">"
   ]
  },
  {
   "cell_type": "markdown",
   "metadata": {},
   "source": [
    "Let's see the effect of social distancing. The trajectories of $s(t), i(t)$ and $r(t)$ for altered parameters are represented in dash lines. We see that early social distancing (left) can mitigate the spreads of the pandemic. The dash orange line $i(t)$ increases at a slower speed. The peak arrives later with a smaller value, which could alleviate the pressure of medical capacity. In contrast, late social distancing starting at day 20 (right) doesn't really help, since the susceptible fraction $s(t)$ is already quite small ane most people are infected or removed.\n"
   ]
  },
  {
   "cell_type": "markdown",
   "metadata": {},
   "source": [
    "\n",
    "<table>\n",
    "   <tr>\n",
    "       <td><img src=\"figs/agent_varparm_social_distancing_early.png\" width=\"80%\"></td>\n",
    "       <td><img src=\"figs/agent_varparm_social_distancing_late.png\" width=\"80%\"></td>\n",
    "   </tr>\n",
    "</table>\n"
   ]
  },
  {
   "cell_type": "markdown",
   "metadata": {},
   "source": [
    "Then, we analyze the effect of durg development and distribution. Similarly, early drug distribution from day 15 (left) effectively change the trajectory of $i(t)$: it starts to decreases immediately rather than continue to reach its maximum in the base case. However, the susceptible fraction $s(t)$ does not change much. Drug distribution in a late stage around day 30 (right) changes $i(t)$ immediately too, but the peak is already arrived and the medical system may already be crashed."
   ]
  },
  {
   "cell_type": "markdown",
   "metadata": {},
   "source": [
    "\n",
    "<table>\n",
    "   <tr>\n",
    "       <td><img src=\"figs/agent_varparm_drug_early.png\" width=\"80%\"></td>\n",
    "       <td><img src=\"figs/agent_varparm_drug_late.png\" width=\"80%\"></td>\n",
    "   </tr>\n",
    "</table>\n"
   ]
  },
  {
   "cell_type": "markdown",
   "metadata": {},
   "source": [
    "For the effect of virus mutation, we see that if the mutation happens in a pre-peak stage, then the peak will arrive earlier with a higher value. In contrast, if the mutation happens in a post-peak stage around day 80, then nothing changes since the susceptible fraction is already 0 – no more individual can get infected, and every individual is either infected or removed. "
   ]
  },
  {
   "cell_type": "markdown",
   "metadata": {},
   "source": [
    "\n",
    "<table>\n",
    "   <tr>\n",
    "       <td><img src=\"figs/agent_varparm_mutation_early.png\" width=\"80%\"></td>\n",
    "       <td><img src=\"figs/agent_varparm_mutation_late.png\" width=\"80%\"></td>\n",
    "   </tr>\n",
    "</table>\n"
   ]
  },
  {
   "cell_type": "markdown",
   "metadata": {},
   "source": [
    "We can consider the three effects in the early stage simultaneouly. The dash curves deviate significantly from the base case. Social distancing rules are enforced on day 5, drugs distribution starts from day 15. Theses two methods effectively decreases $i(t)$. The virus mutation happens on day 20, where we see a jump in the orange dash line. But the peak value is still smaller than that in the base case. Unfortunately, all susceptible individuals are infected eventually."
   ]
  },
  {
   "cell_type": "markdown",
   "metadata": {},
   "source": [
    "<img style=\"float: center;\" src=\"figs/agent_varparm_all.png\" width=\"40%\">"
   ]
  },
  {
   "cell_type": "markdown",
   "metadata": {},
   "source": [
    "### ODE Model"
   ]
  },
  {
   "cell_type": "markdown",
   "metadata": {},
   "source": [
    "We run similar simulation using the ODE model. One thing difficult is how to put the parameter $p$ in to the differential equations. Since $p$ is related to the speed of virus, transmittion, we can just substitute $b$ in the basic SIR model by $b\\times p$. \n",
    "\n",
    "But we found that with the base case parameter $b=10, k=0.01, p=0.1$ the ODE model generates a different base case plot from the agent model's. We may consider adding a power to $p$ to make the two base case plots similar. After tunning the power we let it be 1.5. \n",
    "\n",
    "<img style=\"float: center;\" src=\"figs/ode_varparm_base_case.png\" width=\"40%\">\n",
    "\n",
    "The new differential equations are\n",
    "\n",
    "\\begin{aligned}\n",
    "\\frac{d s}{d t} &= -b\\cdot p^{1.5} \\cdot s(t)\\cdot i(t) \\\\\n",
    "\\frac{d i}{d t} &= b\\cdot p^{1.5}\\cdot s(t)\\cdot i(t) - k\\cdot i(t) \\\\\n",
    "\\frac{d r}{d t} &= k\\cdot i(t) \n",
    "\\end{aligned}"
   ]
  },
  {
   "cell_type": "markdown",
   "metadata": {},
   "source": [
    "The effects of the three time-dependent parameters are shown below."
   ]
  },
  {
   "cell_type": "markdown",
   "metadata": {},
   "source": [
    "<table>\n",
    "   <tr>\n",
    "       <td><img src=\"figs/ode_varparm_social_distancing_early.png\" width=\"80%\"></td>\n",
    "       <td><img src=\"figs/ode_varparm_social_distancing_late.png\" width=\"80%\"></td>\n",
    "   </tr>\n",
    "</table>\n",
    "\n",
    "\n",
    "<table>\n",
    "   <tr>\n",
    "       <td><img src=\"figs/ode_varparm_drug_early.png\" width=\"80%\"></td>\n",
    "       <td><img src=\"figs/agent_varparm_drug_late.png\" width=\"80%\"></td>\n",
    "   </tr>\n",
    "</table>\n",
    "\n",
    "\n",
    "<table>\n",
    "   <tr>\n",
    "       <td><img src=\"figs/ode_varparm_mutation_early.png\" width=\"80%\"></td>\n",
    "       <td><img src=\"figs/ode_varparm_mutation_late.png\" width=\"80%\"></td>\n",
    "   </tr>\n",
    "</table>\n",
    "\n",
    "\n",
    "<table>\n",
    "   <tr>\n",
    "       <td><img src=\"figs/ode_varparm_all.png\" width=\"40%\"></td>\n",
    "   </tr>\n",
    "</table>"
   ]
  },
  {
   "cell_type": "markdown",
   "metadata": {},
   "source": [
    "We see that social distancing seems more significant in the ode model than in the agent model. All three fractions changes quite slowly. The mutation effect is more significant too with a large increment in $i(t)$ on the mutation day $t=20$. Maybe it is due to the effect of introducing the power term in $b\\cdot p^1.5$. Drug distribution have similar effects in both models. "
   ]
  },
  {
   "cell_type": "markdown",
   "metadata": {},
   "source": [
    "In all, from the experiments we conclude that, by affecting the interaction rate $b$, early social distancing can flatten the $i(t)$ curve, postpone the arrival of its peak with a smaller value. Drug distribution facilitates the process of recovery by changing $k$. These two methods affect $i(t)$ from different way: one makes the increment of $I$ from $S$ smaler, one makes the decrement of $I$ to $R$ larger. The mutation effect can siginificantly speed up the transmission if it happens in an early stage. \n",
    "\n",
    "The takeaway is that, social distancing and drug distribution should start as early as possible to mitigate the spread of the pandemic. "
   ]
  },
  {
   "cell_type": "markdown",
   "metadata": {},
   "source": [
    "## SEIR"
   ]
  },
  {
   "cell_type": "markdown",
   "metadata": {},
   "source": [
    "In reality, there is a latent period of Covid-19, when an individual has been infected but is not yet infectious. As a result, we may consider adding a new state named exposed. This is the SEIR model.\n",
    "\n",
    "The system of differential equations becomes \n",
    "\\begin{aligned}\n",
    "\\frac{d s}{d t} &= -b\\cdot s(t)\\cdot i(t) \\\\\n",
    "\\frac{d e}{d t} &= b\\cdot s(t)\\cdot i(t)- f\\cdot e(t) \\\\\n",
    "\\frac{d i}{d t} &=a\\cdot e(t) -k \\cdot i(t) \\\\\n",
    "\\frac{d r}{d t} &=k \\cdot i(t)\n",
    "\\end{aligned}\n",
    "\n",
    "where $f$ is the fraction of the exposed individuals that becomes infectious eacy day.\n",
    "\n",
    "We can repeat our simulation above to see how the curves of $s,i,r$ change with different values of $f$. And plot the 2-d and 3-d phase diagram of the three parameters $b, f, k$. Note that we need to specify the initial fraction of exposed population $e(0)$."
   ]
  },
  {
   "cell_type": "markdown",
   "metadata": {},
   "source": [
    "### Agent-based Model"
   ]
  },
  {
   "cell_type": "markdown",
   "metadata": {},
   "source": [
    "Following the coloring tradition, we use blues, oranges, greeens for $S, I, R$. In addition, we use purples for the new state $E$.\n",
    "\n",
    "We set $e(0) = i(0) = 0.001, b = 1, k = 0.01$ and run experiments for 10 different $f$ values in log-spaced interval 0.01 to 1. Deeper lines corresponds to larger values of $f$. \n",
    "\n",
    "It can be derived that when $f$ is getting closer to 1, the SEIR model converges to the SIR model since the exposed period is quite short. This is shown in the top right purple plot of $e(t)$, where the curves becomes more flattened as $f$ increases.\n",
    "\n",
    "When $f$ is very small, the individuals \"stuck\" in the state $E$ and transit to state $I$ very slowly. This is good since we flatten the orange $i(t)$ curves which gives the medical system more time to prepare and react.\n"
   ]
  },
  {
   "cell_type": "markdown",
   "metadata": {},
   "source": [
    "<img src=\"figs/agent_seir_by_f.png\" width=\"60%\" height=\"100%\"></td>"
   ]
  },
  {
   "cell_type": "markdown",
   "metadata": {},
   "source": [
    "We then investigate the phase diagrams of the paramters $b,f,k$. We simulate $i(t)$ for 100 days with 1,000 $(b,f,k)$ combinations. The 3-D phase diagram on the 50th day is shown below. Again, darker dots represents larger values of $i(50)$. After investigation we found that $i(50)$ is not sensitive to $k>0.3$, which is consistent with our findings in the SIR model. So we only plot show the results for small $k$. "
   ]
  },
  {
   "cell_type": "markdown",
   "metadata": {},
   "source": [
    "\n",
    "<img src=\"figs/agent_seir_phase_3d_tmp.png\" width=\"40%\" height=\"100%\"></td>\n"
   ]
  },
  {
   "cell_type": "markdown",
   "metadata": {},
   "source": [
    "From the above results we can generate three the 2-d phase diagrams by taking the mean of $i(t)$ in the remaning dimension."
   ]
  },
  {
   "cell_type": "markdown",
   "metadata": {},
   "source": [
    "<img src=\"figs/agent_seir_phase_2d.png\" width=\"100%\" height=\"100%\"></td>"
   ]
  },
  {
   "cell_type": "markdown",
   "metadata": {},
   "source": [
    "!! use gif for better explanation"
   ]
  },
  {
   "cell_type": "markdown",
   "metadata": {},
   "source": [
    "### ODE Model"
   ]
  },
  {
   "cell_type": "markdown",
   "metadata": {},
   "source": [
    "Simlarly, we repeat these experiments using the ODE model."
   ]
  },
  {
   "cell_type": "markdown",
   "metadata": {},
   "source": [
    "<img src=\"figs/ode_seir_by_f.png\" width=\"60%\" height=\"100%\"></td>"
   ]
  },
  {
   "cell_type": "markdown",
   "metadata": {},
   "source": [
    "\n",
    "\n",
    "\n",
    "<img src=\"figs/ode_seir_phase_3d_tmp.png\" width=\"40%\" height=\"100%\"></td>\n"
   ]
  },
  {
   "cell_type": "markdown",
   "metadata": {},
   "source": [
    "\n",
    "\n",
    "\n",
    "<img src=\"figs/ode_seir_phase_2d.png\" width=\"100%\" height=\"100%\"></td>\n"
   ]
  },
  {
   "cell_type": "markdown",
   "metadata": {},
   "source": [
    "!! use gif for better explanation"
   ]
  },
  {
   "cell_type": "markdown",
   "metadata": {},
   "source": [
    "## Fit to Data"
   ]
  },
  {
   "cell_type": "markdown",
   "metadata": {},
   "source": [
    "We try to fit our agent model and ODE models to real life data, but there are some obstacles.\n",
    "\n",
    "First, it seems hard to estimate the parameters by the agent-based model. For the ODE model, we only have data for daily new cases and deaths. There is no data to eatimate the daily recover rate $k$. In addition, we found the plot of newly new cases is quite different from our models. That may because there are multiple stages with different parameters of $b$ and $k$, which can be modeled by our first variation but it's hard to estimate."
   ]
  },
  {
   "cell_type": "markdown",
   "metadata": {},
   "source": [
    "# Discussion"
   ]
  },
  {
   "cell_type": "markdown",
   "metadata": {},
   "source": [
    "1. Role of b, k, p, (q)\n",
    "\n",
    "2. Agent vs. ODE/PDE"
   ]
  },
  {
   "cell_type": "markdown",
   "metadata": {},
   "source": [
    "## Conclusion"
   ]
  },
  {
   "cell_type": "markdown",
   "metadata": {},
   "source": [
    "2 questions in spatial.md"
   ]
  },
  {
   "cell_type": "markdown",
   "metadata": {},
   "source": [
    "## Computational Performance"
   ]
  },
  {
   "cell_type": "markdown",
   "metadata": {},
   "source": [
    "## Limitation "
   ]
  },
  {
   "cell_type": "markdown",
   "metadata": {},
   "source": [
    "Better ways to solve PDE (instead of changing into a system of ODEs)\n",
    "\n",
    "Agent limitation: if p too large, stay\n",
    "\n",
    "Data limitation -> failed to fit."
   ]
  },
  {
   "cell_type": "markdown",
   "metadata": {},
   "source": [
    "## Further Investigation"
   ]
  },
  {
   "cell_type": "markdown",
   "metadata": {},
   "source": [
    "SE****IR model\n",
    "\n",
    "Agent:\n",
    "\n",
    "    different rate of movement on different directions / fixed moving directions (model risk aversion)\n",
    "    \n",
    "    population density\n",
    "    \n",
    "PDE:\n",
    "\n",
    "    different diffusion parameter for s, i, r\n",
    "    \n",
    "    more directions other than vertical / horizontal -> network / graphical models"
   ]
  },
  {
   "cell_type": "markdown",
   "metadata": {},
   "source": [
    "# Bibliography "
   ]
  }
 ],
 "metadata": {
  "kernelspec": {
   "display_name": "Computing with Python",
   "language": "python",
   "name": "compy"
  },
  "language_info": {
   "codemirror_mode": {
    "name": "ipython",
    "version": 3
   },
   "file_extension": ".py",
   "mimetype": "text/x-python",
   "name": "python",
   "nbconvert_exporter": "python",
   "pygments_lexer": "ipython3",
   "version": "3.8.5"
  },
  "toc": {
   "base_numbering": 1,
   "nav_menu": {},
   "number_sections": true,
   "sideBar": true,
   "skip_h1_title": false,
   "title_cell": "Table of Contents",
   "title_sidebar": "",
   "toc_cell": true,
   "toc_position": {
    "height": "calc(100% - 180px)",
    "left": "10px",
    "top": "150px",
    "width": "349.091px"
   },
   "toc_section_display": true,
   "toc_window_display": true
  },
  "varInspector": {
   "cols": {
    "lenName": 16,
    "lenType": 16,
    "lenVar": 40
   },
   "kernels_config": {
    "python": {
     "delete_cmd_postfix": "",
     "delete_cmd_prefix": "del ",
     "library": "var_list.py",
     "varRefreshCmd": "print(var_dic_list())"
    },
    "r": {
     "delete_cmd_postfix": ") ",
     "delete_cmd_prefix": "rm(",
     "library": "var_list.r",
     "varRefreshCmd": "cat(var_dic_list()) "
    }
   },
   "types_to_exclude": [
    "module",
    "function",
    "builtin_function_or_method",
    "instance",
    "_Feature"
   ],
   "window_display": false
  }
 },
 "nbformat": 4,
 "nbformat_minor": 4
}
