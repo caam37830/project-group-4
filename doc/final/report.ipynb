{
 "cells": [
  {
   "cell_type": "markdown",
   "metadata": {
    "toc": true
   },
   "source": [
    "<h1>Table of Contents<span class=\"tocSkip\"></span></h1>\n",
    "<div class=\"toc\"><ul class=\"toc-item\"><li><span><a href=\"#Introduction\" data-toc-modified-id=\"Introduction-1\"><span class=\"toc-item-num\">1&nbsp;&nbsp;</span>Introduction</a></span></li><li><span><a href=\"#Models-and-Results\" data-toc-modified-id=\"Models-and-Results-2\"><span class=\"toc-item-num\">2&nbsp;&nbsp;</span>Models and Results</a></span><ul class=\"toc-item\"><li><span><a href=\"#Basic-SIR\" data-toc-modified-id=\"Basic-SIR-2.1\"><span class=\"toc-item-num\">2.1&nbsp;&nbsp;</span>Basic SIR</a></span></li><li><span><a href=\"#Spatial-SIR\" data-toc-modified-id=\"Spatial-SIR-2.2\"><span class=\"toc-item-num\">2.2&nbsp;&nbsp;</span>Spatial SIR</a></span></li><li><span><a href=\"#SIR-with-varition-on-Parameters\" data-toc-modified-id=\"SIR-with-varition-on-Parameters-2.3\"><span class=\"toc-item-num\">2.3&nbsp;&nbsp;</span>SIR with varition on Parameters</a></span></li><li><span><a href=\"#SEIR\" data-toc-modified-id=\"SEIR-2.4\"><span class=\"toc-item-num\">2.4&nbsp;&nbsp;</span>SEIR</a></span></li><li><span><a href=\"#Fit-to-Data\" data-toc-modified-id=\"Fit-to-Data-2.5\"><span class=\"toc-item-num\">2.5&nbsp;&nbsp;</span>Fit to Data</a></span></li></ul></li><li><span><a href=\"#Discussion\" data-toc-modified-id=\"Discussion-3\"><span class=\"toc-item-num\">3&nbsp;&nbsp;</span>Discussion</a></span><ul class=\"toc-item\"><li><span><a href=\"#Conclusion\" data-toc-modified-id=\"Conclusion-3.1\"><span class=\"toc-item-num\">3.1&nbsp;&nbsp;</span>Conclusion</a></span></li><li><span><a href=\"#Limitation\" data-toc-modified-id=\"Limitation-3.2\"><span class=\"toc-item-num\">3.2&nbsp;&nbsp;</span>Limitation</a></span></li><li><span><a href=\"#Further-Investigation\" data-toc-modified-id=\"Further-Investigation-3.3\"><span class=\"toc-item-num\">3.3&nbsp;&nbsp;</span>Further Investigation</a></span></li></ul></li><li><span><a href=\"#Bibliography\" data-toc-modified-id=\"Bibliography-4\"><span class=\"toc-item-num\">4&nbsp;&nbsp;</span>Bibliography</a></span></li></ul></div>"
   ]
  },
  {
   "cell_type": "markdown",
   "metadata": {},
   "source": [
    "\n",
    "In addition to the code you will write and simulations you will run, you should prepare a final report, which should be similar in length/format to a conference paper or short journal article. The purpose of the report is to explain what you investigated, how you investigated your topics (e.g. model/implementation), and why your investigation was interesting (what should a reader take away from your work).\n",
    "\n",
    "This can either be a PDF or a file which can be viewed in a web browser (please don't just use GitHub to host a notebook or markdown file - generate a static html web page). Put your report in the doc/final folder in the repository, which should contain any files and figures, as well as instructions to generate the PDF or html files (if they are generated from LaTeX, Markdown, etc.) If your extensions include an interactive visualization, find a good way to display this online. The purpose of the report is to explain what you investigated, how you investigated your topics, and why your investigation was interesting.\n",
    "\n",
    "Your report should the following sections. 0. Abstract (1 paragraph summary)\n",
    "\n",
    "A brief introduction to the SIR model, the notation you will use, and the different variations you investigate.\n",
    "Sections for the basic SIR model (also in midterm checkpoint), the spatial SIR model, and your variations. Include any relevant implementation details as well as your results and discussion.\n",
    "A conclusion summarizing your results, discussing limitations of your models, and pointing out interesting directions for further investigation\n",
    "A bibliography\n",
    "Please limit your report to 10 pages (excluding bibliography) with 1-inch margins (these margins allow for a lot of content per page). You can put additional figures/results in appendices (not counting to 10 page limit) if you would like, but it is perfectly fine to choose one or two figures per experiment that best illustrate your point in the main text."
   ]
  },
  {
   "cell_type": "markdown",
   "metadata": {},
   "source": [
    "# Introduction"
   ]
  },
  {
   "cell_type": "markdown",
   "metadata": {},
   "source": [
    "# Models and Results"
   ]
  },
  {
   "cell_type": "markdown",
   "metadata": {},
   "source": [
    "## Basic SIR"
   ]
  },
  {
   "cell_type": "markdown",
   "metadata": {},
   "source": [
    "## Spatial SIR"
   ]
  },
  {
   "cell_type": "markdown",
   "metadata": {},
   "source": [
    "## SIR with varition on Parameters"
   ]
  },
  {
   "cell_type": "markdown",
   "metadata": {},
   "source": [
    "## SEIR"
   ]
  },
  {
   "cell_type": "markdown",
   "metadata": {},
   "source": [
    "## Fit to Data"
   ]
  },
  {
   "cell_type": "markdown",
   "metadata": {},
   "source": [
    "# Discussion"
   ]
  },
  {
   "cell_type": "markdown",
   "metadata": {},
   "source": [
    "## Conclusion"
   ]
  },
  {
   "cell_type": "markdown",
   "metadata": {},
   "source": [
    "## Limitation "
   ]
  },
  {
   "cell_type": "markdown",
   "metadata": {},
   "source": [
    "## Further Investigation"
   ]
  },
  {
   "cell_type": "markdown",
   "metadata": {},
   "source": [
    "# Bibliography "
   ]
  }
 ],
 "metadata": {
  "kernelspec": {
   "display_name": "Computing with Python",
   "language": "python",
   "name": "compy"
  },
  "language_info": {
   "codemirror_mode": {
    "name": "ipython",
    "version": 3
   },
   "file_extension": ".py",
   "mimetype": "text/x-python",
   "name": "python",
   "nbconvert_exporter": "python",
   "pygments_lexer": "ipython3",
   "version": "3.8.5"
  },
  "toc": {
   "base_numbering": 1,
   "nav_menu": {},
   "number_sections": true,
   "sideBar": true,
   "skip_h1_title": false,
   "title_cell": "Table of Contents",
   "title_sidebar": "",
   "toc_cell": true,
   "toc_position": {},
   "toc_section_display": true,
   "toc_window_display": true
  },
  "varInspector": {
   "cols": {
    "lenName": 16,
    "lenType": 16,
    "lenVar": 40
   },
   "kernels_config": {
    "python": {
     "delete_cmd_postfix": "",
     "delete_cmd_prefix": "del ",
     "library": "var_list.py",
     "varRefreshCmd": "print(var_dic_list())"
    },
    "r": {
     "delete_cmd_postfix": ") ",
     "delete_cmd_prefix": "rm(",
     "library": "var_list.r",
     "varRefreshCmd": "cat(var_dic_list()) "
    }
   },
   "types_to_exclude": [
    "module",
    "function",
    "builtin_function_or_method",
    "instance",
    "_Feature"
   ],
   "window_display": false
  }
 },
 "nbformat": 4,
 "nbformat_minor": 4
}
