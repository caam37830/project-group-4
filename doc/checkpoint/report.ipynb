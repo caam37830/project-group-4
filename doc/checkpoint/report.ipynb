{
 "cells": [
  {
   "cell_type": "markdown",
   "metadata": {
    "toc": true
   },
   "source": [
    "<h1>Table of Contents<span class=\"tocSkip\"></span></h1>\n",
    "<div class=\"toc\"><ul class=\"toc-item\"><li><span><a href=\"#Model\" data-toc-modified-id=\"Model-1\"><span class=\"toc-item-num\">1&nbsp;&nbsp;</span>Model</a></span></li><li><span><a href=\"#Package-sir\" data-toc-modified-id=\"Package-sir-2\"><span class=\"toc-item-num\">2&nbsp;&nbsp;</span>Package <code>sir</code></a></span></li><li><span><a href=\"#Simulation-Results\" data-toc-modified-id=\"Simulation-Results-3\"><span class=\"toc-item-num\">3&nbsp;&nbsp;</span>Simulation Results</a></span><ul class=\"toc-item\"><li><span><a href=\"#Agent-based-Model\" data-toc-modified-id=\"Agent-based-Model-3.1\"><span class=\"toc-item-num\">3.1&nbsp;&nbsp;</span>Agent-based Model</a></span></li><li><span><a href=\"#ODE-Model\" data-toc-modified-id=\"ODE-Model-3.2\"><span class=\"toc-item-num\">3.2&nbsp;&nbsp;</span>ODE Model</a></span></li></ul></li><li><span><a href=\"#Proposed-Variations/Improvements\" data-toc-modified-id=\"Proposed-Variations/Improvements-4\"><span class=\"toc-item-num\">4&nbsp;&nbsp;</span>Proposed Variations/Improvements</a></span><ul class=\"toc-item\"><li><span><a href=\"#Variation-1\" data-toc-modified-id=\"Variation-1-4.1\"><span class=\"toc-item-num\">4.1&nbsp;&nbsp;</span>Variation 1</a></span></li><li><span><a href=\"#Variation-2\" data-toc-modified-id=\"Variation-2-4.2\"><span class=\"toc-item-num\">4.2&nbsp;&nbsp;</span>Variation 2</a></span></li><li><span><a href=\"#Variation-3\" data-toc-modified-id=\"Variation-3-4.3\"><span class=\"toc-item-num\">4.3&nbsp;&nbsp;</span>Variation 3</a></span></li></ul></li><li><span><a href=\"#References\" data-toc-modified-id=\"References-5\"><span class=\"toc-item-num\">5&nbsp;&nbsp;</span>References</a></span></li></ul></div>"
   ]
  },
  {
   "cell_type": "markdown",
   "metadata": {},
   "source": [
    "# Model"
   ]
  },
  {
   "cell_type": "markdown",
   "metadata": {},
   "source": [
    "To model the spread of a new disease, we classify individuals into three categories according to the SIR model:\n",
    "1. Susceptible - the individual who has not yet caught the disease\n",
    "2. Infectious - an individual is sick and may spread the disease to susceptible individuals\n",
    "3. Recovered - these individuals were previously infectious, and either have recovered and are now immune, or have died. Either way they can not get the disease again or infect susceptible individuals.\n",
    "\n",
    "We use `S(t)`, `I(t)` and `R(t)`, respectively to denote the number of individuals in each category above at time `t`. The corresponding fractions are `s(t)`, `i(t)` and `r(t)`. Then, we use Kermack-McKendrick Model which has two parameters to model the change in `S(t)`, `I(t)` and `R(t)`.\n",
    "* `b`: the number of contacts that an infectious individual has each day \n",
    "* `k`: the fraction of the infectious population which recovers each day\n",
    "\n",
    "At time `t=0`, there is a small fraction of infectious population. Each day an infectious individual contacts `b` other individuals, who can from one of the three categories and only susceptible individuals get infected. Meanwhile, `k` fraction of the infectious population recovers. We want to find how `s(t)`, `i(t)` and `r(t)` change along time with different values of `b` and `k`.\n",
    "\n",
    "There are two methods:\n",
    "\n",
    "1. agent-based model, where we represent a person using a class with an internal state which is one of `S`, `I`, or `R`.\n",
    "2. ODE model, where we model the fraction of each population in the total population, defined by `s(t), i(t), r(t) = S(t) / N, I(t) / N, R(t) / N`, through the following system of differential equations:\n",
    "    * `ds/dt = -b * s(t) * i(t)`\n",
    "    * `dr/dt = k * i(t)`\n",
    "    * `di/dt = b * s(t) * i(t) - k * i(t)`\n"
   ]
  },
  {
   "cell_type": "markdown",
   "metadata": {},
   "source": [
    "# Package `sir`"
   ]
  },
  {
   "cell_type": "markdown",
   "metadata": {},
   "source": [
    "The `sir` package consists of two modules: `agent` and `ode`. \n",
    "* The `agent` module defines a class `Person()` which represents a person. There are three boolean attributes `S`, `I` and `R`, corresponding to suscptible, infectious and recovered, respectively. Only one of these three attributes can be `True` at a time. By default, a person is susceptible, and become infectious using the `infect()` method, and then become recovered using the `recover()` method. \n",
    "* The `ode` module defines a function `ode_model()` which uses ordinary differential equations to model the spread of a new disease throughout a population. The function takes `b`, `k`, `T`, `i0` which is the initial fraction of infectious population as inputs, and returns fractions `s`, `i`, `r` at time `T`."
   ]
  },
  {
   "cell_type": "markdown",
   "metadata": {},
   "source": [
    "# Simulation Results"
   ]
  },
  {
   "cell_type": "markdown",
   "metadata": {},
   "source": [
    "Report on your preliminary investigations using the agent-based and continuous models.\n",
    "\n",
    "Section 3 should include several figures, including:\n",
    "\n",
    "* Phase diagrams for the discrete and ODE simulations\n",
    "* Example plots of the S,I, and R populations over time for some choices of parameter b and k. ."
   ]
  },
  {
   "cell_type": "markdown",
   "metadata": {},
   "source": [
    "\n",
    "Because we're investigating how a new disease spreads, you can start with a small number of infectious individuals (e.g. 0.1% of the population) for both the continuous and discrete simulations, with the remainder of the population in the susceptible category.\n",
    "\n",
    "Your simulations should produces some plots of how s, i, and r change over the length of the simulation for a couple different choices of k and b.\n",
    "\n",
    "You should also investigate the qualitative behavior of the simulations based on the parameters b and k in a phase diagram. For instance, how does the total percentage of the population infected at some point in the simulation depend on these parameters? Are there parameter regimes where i quickly goes to 0? Are there parameter regimes where everyone is eventually infected?\n",
    "\n",
    "How well do the discrete and ODE simulations agree?"
   ]
  },
  {
   "cell_type": "markdown",
   "metadata": {},
   "source": [
    "We run the simulation of agent-based model and ODE across different values of `b` and `k` over up to 100 days.\n",
    " * To observe S,I,R change over time, we choose 5 bs space between 1 to 10, and five ks logarithmically spaced between 10^2 to 1, which\n",
    " results 5*5 = 25 facet diagram\n",
    " * For Phase diagram, we simulate b from 1 to 10, and k from 10^2 to 1, and compare the plots\n",
    " at t = 5, 10, 50.\n",
    "\n",
    "The results of Facet diagram and Phase diagram for discrete(agent-based) and continuous(ODE) models are shown below."
   ]
  },
  {
   "cell_type": "markdown",
   "metadata": {},
   "source": [
    "## Agent-based Model"
   ]
  },
  {
   "cell_type": "markdown",
   "metadata": {},
   "source": [
    "\n",
    "Facet diagram:\n",
    "    ![ode_facet_plot](../../output/agent_facet_plot.png)\n",
    "    \n",
    "Phase diagram:\n",
    "    ![ode_phase_plot](../../output/agent_phase_plot.png)"
   ]
  },
  {
   "cell_type": "markdown",
   "metadata": {},
   "source": [
    "## ODE Model"
   ]
  },
  {
   "cell_type": "markdown",
   "metadata": {},
   "source": [
    "Facet diagram:\n",
    "    ![ode_facet_plot](../../output/ode_facet_plot.png)\n",
    "    \n",
    "Phase diagram:\n",
    "    ![ode_phase_plot](../../output/ode_phase_plot.png)\n"
   ]
  },
  {
   "cell_type": "markdown",
   "metadata": {
    "pycharm": {
     "name": "#%% md\n"
    }
   },
   "source": [
    "Both facet diagram and phase diagram show that the results of Agent-based model and ODE model\n",
    "agree with each other.\n",
    "* From facet diagram, we can see that the infectious rate will increase at an early period\n",
    "and drop after reaching the peak. How fast i reaches the peak and the max of i depend on b and k.\n",
    "As b getting large, the disease spreads quickly and reaches the peak much faster. As k\n",
    "getting large, the infectious rate drops faster with the recovery rate converging to 1 much faster.\n",
    "With k > 0.1, we can see a significant drop in i within 50 days. The max of infection rate decreases as k getting large.\n",
    "It also seems to increase with large b. Yet, the change is much subtle compared with the change along with parameter k.\n",
    "In all, b seems to have much influence on i at the early period that is how fast the population will get the maximum infectious.\n",
    "k seems to control over more at the later period regarding the max infectious rate, and how fast the infection rate drops.\n",
    "\n",
    "* Comparing the phase diagram at three time points, we can see a consistent conclusion with facet diagram. At t = 5, ie.\n",
    "at the early period, b has significant effect on i. A little change (eg. from b= 1 to b = 2) will result a large increase in i.\n",
    "At t = 10, with b fixed, i decreases as k increases. With k fixed, i increases as b increases. At t = 50, b has no more\n",
    "significant effect on i. i decreases along with k increases. Therefore, control over b, such as\n",
    "quarantine is important on early period, and in the later phase, the implementation of recovery\n",
    "methods, such as vaccine, hospitalization, etc will be the key to control over the case."
   ]
  },
  {
   "cell_type": "markdown",
   "source": [
    "# Proposed Variations/Improvements"
   ],
   "metadata": {
    "collapsed": false
   }
  },
  {
   "cell_type": "markdown",
   "metadata": {},
   "source": [
    "Section 4 should include 1 proposed variation for each member of the group (e.g. a group of 3 should propose 3 variations). See the README for some examples. You should have subsections for each proposed variation which include the following information:\n",
    "\n",
    "1. What questions you want to answer in the final report, and how you would try to answer these questions using simulations.\n",
    "1. Any changes to the model in the variation\n",
    "1. If you are using data, where you will obtain the data\n",
    "1. If your variation uses a model or idea from a paper or website, include any references\n",
    "\n",
    "\n",
    "Examples might include:\n",
    "\n",
    "* Modeling the use of masks to slow disease spread\n",
    "* Modeling the use of quarantine, social distancing, etc.\n",
    "* Modeling contagion on a social network (e.g. conspiracy theory)\n",
    "* Fitting the SIR model to COVID-19 data\n",
    "* Implementing a large-scale/high-performance version of the continuous model\n",
    "* Modeling the appearance of a new strain which might re-infect recovered individuals\n",
    "* A nice visualization relating to the project\n",
    "\n",
    "The variations proposed can be governed by interests of group members. E.g. if one member is interested in Bayesian hierarchical modeling, they might propose using PyStan to fit data. If one member is interested in PDEs, they might propose improvements to the continuous model. You might also propose replicating a computational experiment in a a paper related to this topic. In general, you should propose variations that will be fairly straightforward to implement, since you might start to drift into research territory otherwise. You do not need to be exhaustive - the point is just to try out a few different ideas."
   ]
  },
  {
   "cell_type": "markdown",
   "metadata": {},
   "source": [
    "## Variation 1"
   ]
  },
  {
   "cell_type": "markdown",
   "metadata": {},
   "source": [
    "## Variation 2"
   ]
  },
  {
   "cell_type": "markdown",
   "metadata": {},
   "source": [
    "## Variation 3"
   ]
  },
  {
   "cell_type": "code",
   "execution_count": null,
   "metadata": {},
   "outputs": [],
   "source": []
  },
  {
   "cell_type": "markdown",
   "metadata": {},
   "source": [
    "# References"
   ]
  },
  {
   "cell_type": "markdown",
   "metadata": {},
   "source": [
    "likely some for your background on the SIR model, and some for your proposed variations."
   ]
  },
  {
   "cell_type": "code",
   "execution_count": null,
   "metadata": {},
   "outputs": [],
   "source": []
  }
 ],
 "metadata": {
  "kernelspec": {
   "display_name": "Computing with Python",
   "language": "python",
   "name": "compy"
  },
  "language_info": {
   "codemirror_mode": {
    "name": "ipython",
    "version": 3
   },
   "file_extension": ".py",
   "mimetype": "text/x-python",
   "name": "python",
   "nbconvert_exporter": "python",
   "pygments_lexer": "ipython3",
   "version": "3.8.5"
  },
  "toc": {
   "base_numbering": 1,
   "nav_menu": {},
   "number_sections": true,
   "sideBar": true,
   "skip_h1_title": false,
   "title_cell": "Table of Contents",
   "title_sidebar": "",
   "toc_cell": true,
   "toc_position": {
    "height": "calc(100% - 180px)",
    "left": "10px",
    "top": "150px",
    "width": "153.6px"
   },
   "toc_section_display": true,
   "toc_window_display": true
  },
  "varInspector": {
   "cols": {
    "lenName": 16,
    "lenType": 16,
    "lenVar": 40
   },
   "kernels_config": {
    "python": {
     "delete_cmd_postfix": "",
     "delete_cmd_prefix": "del ",
     "library": "var_list.py",
     "varRefreshCmd": "print(var_dic_list())"
    },
    "r": {
     "delete_cmd_postfix": ") ",
     "delete_cmd_prefix": "rm(",
     "library": "var_list.r",
     "varRefreshCmd": "cat(var_dic_list()) "
    }
   },
   "types_to_exclude": [
    "module",
    "function",
    "builtin_function_or_method",
    "instance",
    "_Feature"
   ],
   "window_display": false
  }
 },
 "nbformat": 4,
 "nbformat_minor": 4
}