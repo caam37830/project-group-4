{
 "cells": [
  {
   "cell_type": "markdown",
   "metadata": {
    "toc": true
   },
   "source": [
    "<h1>Table of Contents<span class=\"tocSkip\"></span></h1>\n",
    "<div class=\"toc\"><ul class=\"toc-item\"><li><span><a href=\"#Model\" data-toc-modified-id=\"Model-1\"><span class=\"toc-item-num\">1&nbsp;&nbsp;</span>Model</a></span></li><li><span><a href=\"#Package-sir\" data-toc-modified-id=\"Package-sir-2\"><span class=\"toc-item-num\">2&nbsp;&nbsp;</span>Package <code>sir</code></a></span></li><li><span><a href=\"#Simulation-Results\" data-toc-modified-id=\"Simulation-Results-3\"><span class=\"toc-item-num\">3&nbsp;&nbsp;</span>Simulation Results</a></span></li><li><span><a href=\"#Proposed-Variations/Improvements\" data-toc-modified-id=\"Proposed-Variations/Improvements-4\"><span class=\"toc-item-num\">4&nbsp;&nbsp;</span>Proposed Variations/Improvements</a></span><ul class=\"toc-item\"><li><span><a href=\"#Variation-1\" data-toc-modified-id=\"Variation-1-4.1\"><span class=\"toc-item-num\">4.1&nbsp;&nbsp;</span>Variation 1</a></span></li><li><span><a href=\"#Variation-2\" data-toc-modified-id=\"Variation-2-4.2\"><span class=\"toc-item-num\">4.2&nbsp;&nbsp;</span>Variation 2</a></span></li><li><span><a href=\"#Variation-3\" data-toc-modified-id=\"Variation-3-4.3\"><span class=\"toc-item-num\">4.3&nbsp;&nbsp;</span>Variation 3</a></span></li></ul></li><li><span><a href=\"#References\" data-toc-modified-id=\"References-5\"><span class=\"toc-item-num\">5&nbsp;&nbsp;</span>References</a></span></li></ul></div>"
   ]
  },
  {
   "cell_type": "markdown",
   "metadata": {},
   "source": [
    "# Model"
   ]
  },
  {
   "cell_type": "markdown",
   "metadata": {},
   "source": [
    "A brief introduction to the SIR model, and notation you will use. You can use SIR.md, as well as other resources (cite any other resources that contribute to your discussion).\n",
    "\n",
    "Sections 1 should not be very long."
   ]
  },
  {
   "cell_type": "markdown",
   "metadata": {},
   "source": [
    "# Package `sir`"
   ]
  },
  {
   "cell_type": "markdown",
   "metadata": {},
   "source": [
    "A brief description of how you are structuring the Python package sir.\n",
    "\n",
    "Section 2 should be very brief (about 1 paragraph)."
   ]
  },
  {
   "cell_type": "markdown",
   "metadata": {},
   "source": [
    "# Simulation Results"
   ]
  },
  {
   "cell_type": "markdown",
   "metadata": {},
   "source": [
    "Report on your preliminary investigations using the agent-based and continuous models.\n",
    "\n",
    "Section 3 should include several figures, including:\n",
    "\n",
    "* Phase diagrams for the discrete and ODE simulations\n",
    "* Example plots of the S,I, and R populations over time for some choices of parameter b and k. ."
   ]
  },
  {
   "cell_type": "markdown",
   "metadata": {},
   "source": [
    "\n",
    "Because we're investigating how a new disease spreads, you can start with a small number of infectious individuals (e.g. 0.1% of the population) for both the continuous and discrete simulations, with the remainder of the population in the susceptible category.\n",
    "\n",
    "Your simulations should produces some plots of how s, i, and r change over the length of the simulation for a couple different choices of k and b.\n",
    "\n",
    "You should also investigate the qualitative behavior of the simulations based on the parameters b and k in a phase diagram. For instance, how does the total percentage of the population infected at some point in the simulation depend on these parameters? Are there parameter regimes where i quickly goes to 0? Are there parameter regimes where everyone is eventually infected?\n",
    "\n",
    "How well do the discrete and ODE simulations agree?"
   ]
  },
  {
   "cell_type": "markdown",
   "metadata": {},
   "source": [
    "# Proposed Variations/Improvements"
   ]
  },
  {
   "cell_type": "markdown",
   "metadata": {},
   "source": [
    "Section 4 should include 1 proposed variation for each member of the group (e.g. a group of 3 should propose 3 variations). See the README for some examples. You should have subsections for each proposed variation which include the following information:\n",
    "\n",
    "1. What questions you want to answer in the final report, and how you would try to answer these questions using simulations.\n",
    "1. Any changes to the model in the variation\n",
    "1. If you are using data, where you will obtain the data\n",
    "1. If your variation uses a model or idea from a paper or website, include any references\n",
    "\n",
    "\n",
    "Examples might include:\n",
    "\n",
    "* Modeling the use of masks to slow disease spread\n",
    "* Modeling the use of quarantine, social distancing, etc.\n",
    "* Modeling contagion on a social network (e.g. conspiracy theory)\n",
    "* Fitting the SIR model to COVID-19 data\n",
    "* Implementing a large-scale/high-performance version of the continuous model\n",
    "* Modeling the appearance of a new strain which might re-infect recovered individuals\n",
    "* A nice visualization relating to the project\n",
    "\n",
    "The variations proposed can be governed by interests of group members. E.g. if one member is interested in Bayesian hierarchical modeling, they might propose using PyStan to fit data. If one member is interested in PDEs, they might propose improvements to the continuous model. You might also propose replicating a computational experiment in a a paper related to this topic. In general, you should propose variations that will be fairly straightforward to implement, since you might start to drift into research territory otherwise. You do not need to be exhaustive - the point is just to try out a few different ideas."
   ]
  },
  {
   "cell_type": "markdown",
   "metadata": {},
   "source": [
    "## Variation 1"
   ]
  },
  {
   "cell_type": "markdown",
   "metadata": {},
   "source": [
    "## Variation 2"
   ]
  },
  {
   "cell_type": "markdown",
   "metadata": {},
   "source": [
    "## Variation 3"
   ]
  },
  {
   "cell_type": "markdown",
   "metadata": {},
   "source": [
    "# References"
   ]
  },
  {
   "cell_type": "markdown",
   "metadata": {},
   "source": [
    "likely some for your background on the SIR model, and some for your proposed variations."
   ]
  },
  {
   "cell_type": "code",
   "execution_count": null,
   "metadata": {},
   "outputs": [],
   "source": []
  }
 ],
 "metadata": {
  "kernelspec": {
   "display_name": "Computing with Python",
   "language": "python",
   "name": "compy"
  },
  "language_info": {
   "codemirror_mode": {
    "name": "ipython",
    "version": 3
   },
   "file_extension": ".py",
   "mimetype": "text/x-python",
   "name": "python",
   "nbconvert_exporter": "python",
   "pygments_lexer": "ipython3",
   "version": "3.8.5"
  },
  "toc": {
   "base_numbering": 1,
   "nav_menu": {},
   "number_sections": true,
   "sideBar": true,
   "skip_h1_title": false,
   "title_cell": "Table of Contents",
   "title_sidebar": "",
   "toc_cell": true,
   "toc_position": {},
   "toc_section_display": true,
   "toc_window_display": true
  },
  "varInspector": {
   "cols": {
    "lenName": 16,
    "lenType": 16,
    "lenVar": 40
   },
   "kernels_config": {
    "python": {
     "delete_cmd_postfix": "",
     "delete_cmd_prefix": "del ",
     "library": "var_list.py",
     "varRefreshCmd": "print(var_dic_list())"
    },
    "r": {
     "delete_cmd_postfix": ") ",
     "delete_cmd_prefix": "rm(",
     "library": "var_list.r",
     "varRefreshCmd": "cat(var_dic_list()) "
    }
   },
   "types_to_exclude": [
    "module",
    "function",
    "builtin_function_or_method",
    "instance",
    "_Feature"
   ],
   "window_display": false
  }
 },
 "nbformat": 4,
 "nbformat_minor": 4
}
